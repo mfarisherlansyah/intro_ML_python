{
 "cells": [
  {
   "cell_type": "code",
   "execution_count": 7,
   "metadata": {},
   "outputs": [
    {
     "name": "stdout",
     "output_type": "stream",
     "text": [
      "Requirement already satisfied: imutils in c:\\users\\dell\\anaconda3\\lib\\site-packages (0.5.2)\n",
      "Collecting opencv-contrib-python\n",
      "  Downloading https://files.pythonhosted.org/packages/cc/ea/ea342b15c152fb862aeabb02402a0893199a59de821f3347a5fe9bfa2791/opencv_contrib_python-4.1.0.25-cp37-cp37m-win_amd64.whl (43.7MB)\n",
      "Requirement already satisfied: numpy>=1.14.5 in c:\\users\\dell\\anaconda3\\lib\\site-packages (from opencv-contrib-python) (1.16.2)\n",
      "Installing collected packages: opencv-contrib-python\n",
      "Successfully installed opencv-contrib-python-4.1.0.25\n"
     ]
    }
   ],
   "source": [
    "import sys\n",
    "!{sys.executable} -m pip install imutils\n",
    "!{sys.executable} -m pip install opencv-contrib-python"
   ]
  },
  {
   "cell_type": "code",
   "execution_count": 14,
   "metadata": {},
   "outputs": [
    {
     "name": "stdout",
     "output_type": "stream",
     "text": [
      "[INFO] extracting image features...\n",
      "[INFO] using naive_bayes model\n",
      "[INFO] evaluating...\n",
      "              precision    recall  f1-score   support\n",
      "\n",
      "       coast       0.71      0.47      0.57        78\n",
      "      forest       0.71      0.76      0.73        88\n",
      "     highway       0.64      0.82      0.72        71\n",
      "\n",
      "   micro avg       0.68      0.68      0.68       237\n",
      "   macro avg       0.69      0.68      0.67       237\n",
      "weighted avg       0.69      0.68      0.68       237\n",
      "\n"
     ]
    }
   ],
   "source": [
    "%run -i classify_image.py -d 3scenes -m naive_bayes"
   ]
  },
  {
   "cell_type": "code",
   "execution_count": 15,
   "metadata": {},
   "outputs": [
    {
     "name": "stdout",
     "output_type": "stream",
     "text": [
      "[INFO] extracting image features...\n",
      "[INFO] using knn model\n",
      "[INFO] evaluating...\n",
      "              precision    recall  f1-score   support\n",
      "\n",
      "       coast       0.72      0.72      0.72        81\n",
      "      forest       0.87      0.80      0.83        81\n",
      "     highway       0.67      0.72      0.69        75\n",
      "\n",
      "   micro avg       0.75      0.75      0.75       237\n",
      "   macro avg       0.75      0.75      0.75       237\n",
      "weighted avg       0.75      0.75      0.75       237\n",
      "\n"
     ]
    }
   ],
   "source": [
    "%run -i classify_image.py -d 3scenes -m knn"
   ]
  },
  {
   "cell_type": "code",
   "execution_count": 10,
   "metadata": {},
   "outputs": [
    {
     "name": "stdout",
     "output_type": "stream",
     "text": [
      "[INFO] extracting image features...\n",
      "[INFO] using svm model\n",
      "[INFO] evaluating...\n",
      "              precision    recall  f1-score   support\n",
      "\n",
      "       coast       0.35      1.00      0.51        82\n",
      "      forest       0.00      0.00      0.00        86\n",
      "     highway       0.00      0.00      0.00        69\n",
      "\n",
      "   micro avg       0.35      0.35      0.35       237\n",
      "   macro avg       0.12      0.33      0.17       237\n",
      "weighted avg       0.12      0.35      0.18       237\n",
      "\n"
     ]
    },
    {
     "name": "stderr",
     "output_type": "stream",
     "text": [
      "C:\\Users\\dell\\Anaconda3\\lib\\site-packages\\sklearn\\metrics\\classification.py:1143: UndefinedMetricWarning: Precision and F-score are ill-defined and being set to 0.0 in labels with no predicted samples.\n",
      "  'precision', 'predicted', average, warn_for)\n"
     ]
    }
   ],
   "source": [
    "%run -i classify_image.py -m svm"
   ]
  },
  {
   "cell_type": "code",
   "execution_count": 11,
   "metadata": {},
   "outputs": [
    {
     "name": "stdout",
     "output_type": "stream",
     "text": [
      "[INFO] extracting image features...\n",
      "[INFO] using logit model\n",
      "[INFO] evaluating...\n",
      "              precision    recall  f1-score   support\n",
      "\n",
      "       coast       0.75      0.81      0.78        94\n",
      "      forest       0.84      0.83      0.84        78\n",
      "     highway       0.74      0.66      0.70        65\n",
      "\n",
      "   micro avg       0.78      0.78      0.78       237\n",
      "   macro avg       0.78      0.77      0.77       237\n",
      "weighted avg       0.78      0.78      0.78       237\n",
      "\n"
     ]
    },
    {
     "name": "stderr",
     "output_type": "stream",
     "text": [
      "C:\\Users\\dell\\Anaconda3\\lib\\site-packages\\sklearn\\linear_model\\logistic.py:758: ConvergenceWarning: lbfgs failed to converge. Increase the number of iterations.\n",
      "  \"of iterations.\", ConvergenceWarning)\n"
     ]
    }
   ],
   "source": [
    "%run -i classify_image.py -m logit"
   ]
  },
  {
   "cell_type": "code",
   "execution_count": 12,
   "metadata": {},
   "outputs": [
    {
     "name": "stdout",
     "output_type": "stream",
     "text": [
      "[INFO] extracting image features...\n",
      "[INFO] using decision_tree model\n",
      "[INFO] evaluating...\n",
      "              precision    recall  f1-score   support\n",
      "\n",
      "       coast       0.71      0.71      0.71        92\n",
      "      forest       0.73      0.76      0.74        78\n",
      "     highway       0.68      0.66      0.67        67\n",
      "\n",
      "   micro avg       0.71      0.71      0.71       237\n",
      "   macro avg       0.71      0.71      0.71       237\n",
      "weighted avg       0.71      0.71      0.71       237\n",
      "\n"
     ]
    }
   ],
   "source": [
    "%run -i classify_image.py -m decision_tree"
   ]
  },
  {
   "cell_type": "code",
   "execution_count": 13,
   "metadata": {},
   "outputs": [
    {
     "name": "stdout",
     "output_type": "stream",
     "text": [
      "[INFO] extracting image features...\n",
      "[INFO] using mlp model\n",
      "[INFO] evaluating...\n",
      "              precision    recall  f1-score   support\n",
      "\n",
      "       coast       0.87      0.62      0.73        88\n",
      "      forest       0.90      0.76      0.82        82\n",
      "     highway       0.56      0.88      0.69        67\n",
      "\n",
      "   micro avg       0.74      0.74      0.74       237\n",
      "   macro avg       0.78      0.75      0.75       237\n",
      "weighted avg       0.79      0.74      0.75       237\n",
      "\n"
     ]
    }
   ],
   "source": [
    "%run -i classify_image.py -m mlp"
   ]
  },
  {
   "cell_type": "code",
   "execution_count": 16,
   "metadata": {},
   "outputs": [
    {
     "data": {
      "text/plain": [
       "'3scenes\\\\highway\\\\highway_urb962.jpg'"
      ]
     },
     "execution_count": 16,
     "metadata": {},
     "output_type": "execute_result"
    }
   ],
   "source": [
    "imagePath"
   ]
  },
  {
   "cell_type": "code",
   "execution_count": 17,
   "metadata": {},
   "outputs": [
    {
     "data": {
      "text/plain": [
       "'highway'"
      ]
     },
     "execution_count": 17,
     "metadata": {},
     "output_type": "execute_result"
    }
   ],
   "source": [
    "imagePath.split(os.path.sep)[-2] # folder dalamnya 3scenes"
   ]
  },
  {
   "cell_type": "code",
   "execution_count": 18,
   "metadata": {},
   "outputs": [
    {
     "data": {
      "text/plain": [
       "'3scenes'"
      ]
     },
     "execution_count": 18,
     "metadata": {},
     "output_type": "execute_result"
    }
   ],
   "source": [
    "imagePath.split(os.path.sep)[-3] # folder depan"
   ]
  },
  {
   "cell_type": "code",
   "execution_count": 19,
   "metadata": {},
   "outputs": [
    {
     "data": {
      "text/plain": [
       "'highway_urb962.jpg'"
      ]
     },
     "execution_count": 19,
     "metadata": {},
     "output_type": "execute_result"
    }
   ],
   "source": [
    "imagePath.split(os.path.sep)[-1] # image-nya"
   ]
  },
  {
   "cell_type": "code",
   "execution_count": 21,
   "metadata": {},
   "outputs": [
    {
     "data": {
      "text/plain": [
       "'highway'"
      ]
     },
     "execution_count": 21,
     "metadata": {},
     "output_type": "execute_result"
    }
   ],
   "source": [
    "imagePath.split(os.path.sep)[1] # inget urutan list!"
   ]
  },
  {
   "cell_type": "code",
   "execution_count": 22,
   "metadata": {},
   "outputs": [
    {
     "data": {
      "text/plain": [
       "[124.45698547363281,\n",
       " 131.66502380371094,\n",
       " 123.9903564453125,\n",
       " 58.57988465402306,\n",
       " 70.1360436940548,\n",
       " 83.73321692128057]"
      ]
     },
     "execution_count": 22,
     "metadata": {},
     "output_type": "execute_result"
    }
   ],
   "source": [
    "image = Image.open(imagePath)\n",
    "extract_color_stats(image)"
   ]
  },
  {
   "cell_type": "code",
   "execution_count": 34,
   "metadata": {},
   "outputs": [
    {
     "name": "stdout",
     "output_type": "stream",
     "text": [
      "[INFO] extracting image features...\n"
     ]
    },
    {
     "ename": "ValueError",
     "evalue": "not enough values to unpack (expected 3, got 1)",
     "output_type": "error",
     "traceback": [
      "\u001b[1;31m---------------------------------------------------------------------------\u001b[0m",
      "\u001b[1;31mValueError\u001b[0m                                Traceback (most recent call last)",
      "\u001b[1;32m~\\Punya Faris\\DTS\\Hands on 25 Juli 2019\\classify_image2.py\u001b[0m in \u001b[0;36m<module>\u001b[1;34m\u001b[0m\n\u001b[0;32m     53\u001b[0m         \u001b[1;31m# Load the input image from disk, compute colour channel statistics, and then update the data list\u001b[0m\u001b[1;33m\u001b[0m\u001b[1;33m\u001b[0m\u001b[1;33m\u001b[0m\u001b[0m\n\u001b[0;32m     54\u001b[0m         \u001b[0mimage\u001b[0m \u001b[1;33m=\u001b[0m \u001b[0mImage\u001b[0m\u001b[1;33m.\u001b[0m\u001b[0mopen\u001b[0m\u001b[1;33m(\u001b[0m\u001b[0mimagePath\u001b[0m\u001b[1;33m)\u001b[0m\u001b[1;33m\u001b[0m\u001b[1;33m\u001b[0m\u001b[0m\n\u001b[1;32m---> 55\u001b[1;33m         \u001b[0mfeatures\u001b[0m \u001b[1;33m=\u001b[0m \u001b[0mextract_color_stats\u001b[0m\u001b[1;33m(\u001b[0m\u001b[0mimage\u001b[0m\u001b[1;33m)\u001b[0m \u001b[1;31m# Extract fiturnya\u001b[0m\u001b[1;33m\u001b[0m\u001b[1;33m\u001b[0m\u001b[0m\n\u001b[0m\u001b[0;32m     56\u001b[0m         \u001b[0mdata\u001b[0m\u001b[1;33m.\u001b[0m\u001b[0mappend\u001b[0m\u001b[1;33m(\u001b[0m\u001b[0mfeatures\u001b[0m\u001b[1;33m)\u001b[0m \u001b[1;31m# Menyimpan fitur sambil di-append (ditambahkan terus)\u001b[0m\u001b[1;33m\u001b[0m\u001b[1;33m\u001b[0m\u001b[0m\n\u001b[0;32m     57\u001b[0m \u001b[1;33m\u001b[0m\u001b[0m\n",
      "\u001b[1;32m~\\Punya Faris\\DTS\\Hands on 25 Juli 2019\\classify_image2.py\u001b[0m in \u001b[0;36mextract_color_stats\u001b[1;34m(image)\u001b[0m\n\u001b[0;32m     24\u001b[0m \u001b[1;32mdef\u001b[0m \u001b[0mextract_color_stats\u001b[0m\u001b[1;33m(\u001b[0m\u001b[0mimage\u001b[0m\u001b[1;33m)\u001b[0m\u001b[1;33m:\u001b[0m\u001b[1;33m\u001b[0m\u001b[1;33m\u001b[0m\u001b[0m\n\u001b[0;32m     25\u001b[0m         \u001b[1;31m# Split the input image into its respective RGB colour channels and then create a feature vector with six values; the mean and std for each of the three channels\u001b[0m\u001b[1;33m\u001b[0m\u001b[1;33m\u001b[0m\u001b[1;33m\u001b[0m\u001b[0m\n\u001b[1;32m---> 26\u001b[1;33m         \u001b[1;33m(\u001b[0m\u001b[0mR\u001b[0m\u001b[1;33m,\u001b[0m \u001b[0mG\u001b[0m\u001b[1;33m,\u001b[0m \u001b[0mB\u001b[0m\u001b[1;33m)\u001b[0m \u001b[1;33m=\u001b[0m \u001b[0mimage\u001b[0m\u001b[1;33m.\u001b[0m\u001b[0msplit\u001b[0m\u001b[1;33m(\u001b[0m\u001b[1;33m)\u001b[0m\u001b[1;33m\u001b[0m\u001b[1;33m\u001b[0m\u001b[0m\n\u001b[0m\u001b[0;32m     27\u001b[0m         \u001b[0mfeatures\u001b[0m \u001b[1;33m=\u001b[0m \u001b[1;33m[\u001b[0m\u001b[0mnp\u001b[0m\u001b[1;33m.\u001b[0m\u001b[0mmean\u001b[0m\u001b[1;33m(\u001b[0m\u001b[0mR\u001b[0m\u001b[1;33m)\u001b[0m\u001b[1;33m,\u001b[0m \u001b[0mnp\u001b[0m\u001b[1;33m.\u001b[0m\u001b[0mmean\u001b[0m\u001b[1;33m(\u001b[0m\u001b[0mG\u001b[0m\u001b[1;33m)\u001b[0m\u001b[1;33m,\u001b[0m \u001b[0mnp\u001b[0m\u001b[1;33m.\u001b[0m\u001b[0mmean\u001b[0m\u001b[1;33m(\u001b[0m\u001b[0mB\u001b[0m\u001b[1;33m)\u001b[0m\u001b[1;33m,\u001b[0m \u001b[0mnp\u001b[0m\u001b[1;33m.\u001b[0m\u001b[0mstd\u001b[0m\u001b[1;33m(\u001b[0m\u001b[0mR\u001b[0m\u001b[1;33m)\u001b[0m\u001b[1;33m,\u001b[0m \u001b[0mnp\u001b[0m\u001b[1;33m.\u001b[0m\u001b[0mstd\u001b[0m\u001b[1;33m(\u001b[0m\u001b[0mG\u001b[0m\u001b[1;33m)\u001b[0m\u001b[1;33m,\u001b[0m \u001b[0mnp\u001b[0m\u001b[1;33m.\u001b[0m\u001b[0mstd\u001b[0m\u001b[1;33m(\u001b[0m\u001b[0mB\u001b[0m\u001b[1;33m)\u001b[0m\u001b[1;33m]\u001b[0m \u001b[1;31m# Ini jadi fitur-fiturnya\u001b[0m\u001b[1;33m\u001b[0m\u001b[1;33m\u001b[0m\u001b[0m\n\u001b[0;32m     28\u001b[0m         \u001b[1;31m# Return the set of features\u001b[0m\u001b[1;33m\u001b[0m\u001b[1;33m\u001b[0m\u001b[1;33m\u001b[0m\u001b[0m\n",
      "\u001b[1;31mValueError\u001b[0m: not enough values to unpack (expected 3, got 1)"
     ]
    }
   ],
   "source": [
    "%run -i classify_image2.py -d 4scenes -m naive_bayes"
   ]
  },
  {
   "cell_type": "code",
   "execution_count": 30,
   "metadata": {},
   "outputs": [
    {
     "name": "stdout",
     "output_type": "stream",
     "text": [
      "[INFO] extracting image features...\n",
      "[INFO] using naive_bayes model\n",
      "[INFO] evaluating...\n",
      "              precision    recall  f1-score   support\n",
      "\n",
      "       coast       0.73      0.34      0.46        98\n",
      "      forest       0.65      0.78      0.71        78\n",
      "     highway       0.51      0.82      0.63        61\n",
      "\n",
      "   micro avg       0.61      0.61      0.61       237\n",
      "   macro avg       0.63      0.65      0.60       237\n",
      "weighted avg       0.65      0.61      0.59       237\n",
      "\n",
      "[INFO] mikir dulu ya...\n",
      "test image:  forest-1208296.jpg\n",
      "prediction:  ['highway']\n"
     ]
    }
   ],
   "source": [
    "%run -i classify_image1.py -d 3scenes -m naive_bayes -ti forest-1208296.jpg"
   ]
  },
  {
   "cell_type": "code",
   "execution_count": 37,
   "metadata": {},
   "outputs": [
    {
     "name": "stdout",
     "output_type": "stream",
     "text": [
      "[INFO] Feature type:  stat1\n",
      "[INFO] extracting image features...\n",
      "[INFO] using mlp model\n",
      "[INFO] evaluating...\n",
      "              precision    recall  f1-score   support\n",
      "\n",
      "       coast       0.88      0.74      0.80        89\n",
      "      forest       0.78      0.89      0.83        74\n",
      "     highway       0.73      0.76      0.74        74\n",
      "\n",
      "   micro avg       0.79      0.79      0.79       237\n",
      "   macro avg       0.79      0.80      0.79       237\n",
      "weighted avg       0.80      0.79      0.79       237\n",
      "\n"
     ]
    }
   ],
   "source": [
    "%run -i classify_image3.py -d 3scenes -m mlp -f stat1"
   ]
  },
  {
   "cell_type": "code",
   "execution_count": 38,
   "metadata": {},
   "outputs": [
    {
     "name": "stdout",
     "output_type": "stream",
     "text": [
      "[INFO] Feature type:  stat2\n",
      "[INFO] extracting image features...\n",
      "[INFO] using mlp model\n",
      "[INFO] evaluating...\n",
      "              precision    recall  f1-score   support\n",
      "\n",
      "       coast       0.89      0.69      0.78        97\n",
      "      forest       0.82      0.86      0.84        77\n",
      "     highway       0.67      0.87      0.76        63\n",
      "\n",
      "   micro avg       0.79      0.79      0.79       237\n",
      "   macro avg       0.80      0.81      0.79       237\n",
      "weighted avg       0.81      0.79      0.79       237\n",
      "\n"
     ]
    }
   ],
   "source": [
    "%run -i classify_image3.py -d 3scenes -m mlp -f stat2"
   ]
  },
  {
   "cell_type": "code",
   "execution_count": 39,
   "metadata": {},
   "outputs": [
    {
     "name": "stdout",
     "output_type": "stream",
     "text": [
      "[INFO] Feature type:  stat3\n",
      "[INFO] extracting image features...\n",
      "[INFO] using mlp model\n",
      "[INFO] evaluating...\n",
      "              precision    recall  f1-score   support\n",
      "\n",
      "       coast       0.67      0.95      0.79        85\n",
      "      forest       0.94      0.83      0.88        90\n",
      "     highway       0.89      0.52      0.65        62\n",
      "\n",
      "   micro avg       0.79      0.79      0.79       237\n",
      "   macro avg       0.83      0.77      0.77       237\n",
      "weighted avg       0.83      0.79      0.79       237\n",
      "\n"
     ]
    }
   ],
   "source": [
    "%run -i classify_image3.py -d 3scenes -m mlp -f stat3"
   ]
  },
  {
   "cell_type": "code",
   "execution_count": 41,
   "metadata": {},
   "outputs": [
    {
     "name": "stdout",
     "output_type": "stream",
     "text": [
      "[INFO] Feature type:  stat3\n",
      "[INFO] extracting image features...\n",
      "[INFO] using mlp model\n",
      "[INFO] evaluating...\n",
      "              precision    recall  f1-score   support\n",
      "\n",
      "       coast       0.90      0.82      0.86       101\n",
      "      forest       0.90      0.81      0.86        70\n",
      "     highway       0.70      0.86      0.77        66\n",
      "\n",
      "   micro avg       0.83      0.83      0.83       237\n",
      "   macro avg       0.83      0.83      0.83       237\n",
      "weighted avg       0.85      0.83      0.83       237\n",
      "\n"
     ]
    }
   ],
   "source": [
    "%run -i classify_image3.py -d 3scenes -m mlp -f stat3"
   ]
  },
  {
   "cell_type": "code",
   "execution_count": 42,
   "metadata": {},
   "outputs": [
    {
     "name": "stdout",
     "output_type": "stream",
     "text": [
      "[INFO] Feature type:  stat2\n",
      "[INFO] extracting image features...\n",
      "[INFO] using mlp model\n",
      "[INFO] evaluating...\n",
      "              precision    recall  f1-score   support\n",
      "\n",
      "       coast       0.70      0.76      0.73        84\n",
      "      forest       0.69      0.88      0.77        82\n",
      "     highway       0.86      0.51      0.64        71\n",
      "\n",
      "   micro avg       0.73      0.73      0.73       237\n",
      "   macro avg       0.75      0.72      0.71       237\n",
      "weighted avg       0.75      0.73      0.72       237\n",
      "\n"
     ]
    }
   ],
   "source": [
    "%run -i classify_image3.py -d 3scenes -m mlp -f stat2"
   ]
  },
  {
   "cell_type": "code",
   "execution_count": 45,
   "metadata": {},
   "outputs": [
    {
     "name": "stdout",
     "output_type": "stream",
     "text": [
      "[INFO] Feature type:  stat2\n",
      "[INFO] extracting image features...\n",
      "[INFO] using mlp model\n",
      "[INFO] evaluating...\n",
      "              precision    recall  f1-score   support\n",
      "\n",
      "       coast       0.87      0.71      0.78        91\n",
      "      forest       0.88      0.82      0.85        74\n",
      "     highway       0.65      0.83      0.73        72\n",
      "\n",
      "   micro avg       0.78      0.78      0.78       237\n",
      "   macro avg       0.80      0.79      0.79       237\n",
      "weighted avg       0.80      0.78      0.79       237\n",
      "\n",
      "[INFO] mikir dulu ya...\n",
      "test image:  forest-1208296.jpg\n",
      "prediction:  ['highway']\n"
     ]
    }
   ],
   "source": [
    "%run -i classify_image3.py -d 3scenes -m mlp -f stat2 -ti forest-1208296.jpg"
   ]
  },
  {
   "cell_type": "code",
   "execution_count": null,
   "metadata": {},
   "outputs": [],
   "source": []
  }
 ],
 "metadata": {
  "kernelspec": {
   "display_name": "Python 3",
   "language": "python",
   "name": "python3"
  },
  "language_info": {
   "codemirror_mode": {
    "name": "ipython",
    "version": 3
   },
   "file_extension": ".py",
   "mimetype": "text/x-python",
   "name": "python",
   "nbconvert_exporter": "python",
   "pygments_lexer": "ipython3",
   "version": "3.7.3"
  }
 },
 "nbformat": 4,
 "nbformat_minor": 2
}
