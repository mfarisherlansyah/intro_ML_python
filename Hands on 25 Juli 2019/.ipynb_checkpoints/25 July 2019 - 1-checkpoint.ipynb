{
 "cells": [
  {
   "cell_type": "code",
   "execution_count": 7,
   "metadata": {},
   "outputs": [
    {
     "name": "stdout",
     "output_type": "stream",
     "text": [
      "Requirement already satisfied: imutils in c:\\users\\dell\\anaconda3\\lib\\site-packages (0.5.2)\n",
      "Collecting opencv-contrib-python\n",
      "  Downloading https://files.pythonhosted.org/packages/cc/ea/ea342b15c152fb862aeabb02402a0893199a59de821f3347a5fe9bfa2791/opencv_contrib_python-4.1.0.25-cp37-cp37m-win_amd64.whl (43.7MB)\n",
      "Requirement already satisfied: numpy>=1.14.5 in c:\\users\\dell\\anaconda3\\lib\\site-packages (from opencv-contrib-python) (1.16.2)\n",
      "Installing collected packages: opencv-contrib-python\n",
      "Successfully installed opencv-contrib-python-4.1.0.25\n"
     ]
    }
   ],
   "source": [
    "import sys\n",
    "!{sys.executable} -m pip install imutils\n",
    "!{sys.executable} -m pip install opencv-contrib-python"
   ]
  },
  {
   "cell_type": "code",
   "execution_count": 14,
   "metadata": {},
   "outputs": [
    {
     "name": "stdout",
     "output_type": "stream",
     "text": [
      "[INFO] extracting image features...\n",
      "[INFO] using naive_bayes model\n",
      "[INFO] evaluating...\n",
      "              precision    recall  f1-score   support\n",
      "\n",
      "       coast       0.71      0.47      0.57        78\n",
      "      forest       0.71      0.76      0.73        88\n",
      "     highway       0.64      0.82      0.72        71\n",
      "\n",
      "   micro avg       0.68      0.68      0.68       237\n",
      "   macro avg       0.69      0.68      0.67       237\n",
      "weighted avg       0.69      0.68      0.68       237\n",
      "\n"
     ]
    }
   ],
   "source": [
    "%run -i classify_image.py -d 3scenes -m naive_bayes"
   ]
  },
  {
   "cell_type": "code",
   "execution_count": 15,
   "metadata": {},
   "outputs": [
    {
     "name": "stdout",
     "output_type": "stream",
     "text": [
      "[INFO] extracting image features...\n",
      "[INFO] using knn model\n",
      "[INFO] evaluating...\n",
      "              precision    recall  f1-score   support\n",
      "\n",
      "       coast       0.72      0.72      0.72        81\n",
      "      forest       0.87      0.80      0.83        81\n",
      "     highway       0.67      0.72      0.69        75\n",
      "\n",
      "   micro avg       0.75      0.75      0.75       237\n",
      "   macro avg       0.75      0.75      0.75       237\n",
      "weighted avg       0.75      0.75      0.75       237\n",
      "\n"
     ]
    }
   ],
   "source": [
    "%run -i classify_image.py -d 3scenes -m knn"
   ]
  },
  {
   "cell_type": "code",
   "execution_count": 10,
   "metadata": {},
   "outputs": [
    {
     "name": "stdout",
     "output_type": "stream",
     "text": [
      "[INFO] extracting image features...\n",
      "[INFO] using svm model\n",
      "[INFO] evaluating...\n",
      "              precision    recall  f1-score   support\n",
      "\n",
      "       coast       0.35      1.00      0.51        82\n",
      "      forest       0.00      0.00      0.00        86\n",
      "     highway       0.00      0.00      0.00        69\n",
      "\n",
      "   micro avg       0.35      0.35      0.35       237\n",
      "   macro avg       0.12      0.33      0.17       237\n",
      "weighted avg       0.12      0.35      0.18       237\n",
      "\n"
     ]
    },
    {
     "name": "stderr",
     "output_type": "stream",
     "text": [
      "C:\\Users\\dell\\Anaconda3\\lib\\site-packages\\sklearn\\metrics\\classification.py:1143: UndefinedMetricWarning: Precision and F-score are ill-defined and being set to 0.0 in labels with no predicted samples.\n",
      "  'precision', 'predicted', average, warn_for)\n"
     ]
    }
   ],
   "source": [
    "%run -i classify_image.py -m svm"
   ]
  },
  {
   "cell_type": "code",
   "execution_count": 11,
   "metadata": {},
   "outputs": [
    {
     "name": "stdout",
     "output_type": "stream",
     "text": [
      "[INFO] extracting image features...\n",
      "[INFO] using logit model\n",
      "[INFO] evaluating...\n",
      "              precision    recall  f1-score   support\n",
      "\n",
      "       coast       0.75      0.81      0.78        94\n",
      "      forest       0.84      0.83      0.84        78\n",
      "     highway       0.74      0.66      0.70        65\n",
      "\n",
      "   micro avg       0.78      0.78      0.78       237\n",
      "   macro avg       0.78      0.77      0.77       237\n",
      "weighted avg       0.78      0.78      0.78       237\n",
      "\n"
     ]
    },
    {
     "name": "stderr",
     "output_type": "stream",
     "text": [
      "C:\\Users\\dell\\Anaconda3\\lib\\site-packages\\sklearn\\linear_model\\logistic.py:758: ConvergenceWarning: lbfgs failed to converge. Increase the number of iterations.\n",
      "  \"of iterations.\", ConvergenceWarning)\n"
     ]
    }
   ],
   "source": [
    "%run -i classify_image.py -m logit"
   ]
  },
  {
   "cell_type": "code",
   "execution_count": 12,
   "metadata": {},
   "outputs": [
    {
     "name": "stdout",
     "output_type": "stream",
     "text": [
      "[INFO] extracting image features...\n",
      "[INFO] using decision_tree model\n",
      "[INFO] evaluating...\n",
      "              precision    recall  f1-score   support\n",
      "\n",
      "       coast       0.71      0.71      0.71        92\n",
      "      forest       0.73      0.76      0.74        78\n",
      "     highway       0.68      0.66      0.67        67\n",
      "\n",
      "   micro avg       0.71      0.71      0.71       237\n",
      "   macro avg       0.71      0.71      0.71       237\n",
      "weighted avg       0.71      0.71      0.71       237\n",
      "\n"
     ]
    }
   ],
   "source": [
    "%run -i classify_image.py -m decision_tree"
   ]
  },
  {
   "cell_type": "code",
   "execution_count": 13,
   "metadata": {},
   "outputs": [
    {
     "name": "stdout",
     "output_type": "stream",
     "text": [
      "[INFO] extracting image features...\n",
      "[INFO] using mlp model\n",
      "[INFO] evaluating...\n",
      "              precision    recall  f1-score   support\n",
      "\n",
      "       coast       0.87      0.62      0.73        88\n",
      "      forest       0.90      0.76      0.82        82\n",
      "     highway       0.56      0.88      0.69        67\n",
      "\n",
      "   micro avg       0.74      0.74      0.74       237\n",
      "   macro avg       0.78      0.75      0.75       237\n",
      "weighted avg       0.79      0.74      0.75       237\n",
      "\n"
     ]
    }
   ],
   "source": [
    "%run -i classify_image.py -m mlp"
   ]
  },
  {
   "cell_type": "code",
   "execution_count": 16,
   "metadata": {},
   "outputs": [
    {
     "data": {
      "text/plain": [
       "'3scenes\\\\highway\\\\highway_urb962.jpg'"
      ]
     },
     "execution_count": 16,
     "metadata": {},
     "output_type": "execute_result"
    }
   ],
   "source": [
    "imagePath"
   ]
  },
  {
   "cell_type": "code",
   "execution_count": 17,
   "metadata": {},
   "outputs": [
    {
     "data": {
      "text/plain": [
       "'highway'"
      ]
     },
     "execution_count": 17,
     "metadata": {},
     "output_type": "execute_result"
    }
   ],
   "source": [
    "imagePath.split(os.path.sep)[-2] # folder dalamnya 3scenes"
   ]
  },
  {
   "cell_type": "code",
   "execution_count": 18,
   "metadata": {},
   "outputs": [
    {
     "data": {
      "text/plain": [
       "'3scenes'"
      ]
     },
     "execution_count": 18,
     "metadata": {},
     "output_type": "execute_result"
    }
   ],
   "source": [
    "imagePath.split(os.path.sep)[-3] # folder depan"
   ]
  },
  {
   "cell_type": "code",
   "execution_count": 19,
   "metadata": {},
   "outputs": [
    {
     "data": {
      "text/plain": [
       "'highway_urb962.jpg'"
      ]
     },
     "execution_count": 19,
     "metadata": {},
     "output_type": "execute_result"
    }
   ],
   "source": [
    "imagePath.split(os.path.sep)[-1] # image-nya"
   ]
  },
  {
   "cell_type": "code",
   "execution_count": 21,
   "metadata": {},
   "outputs": [
    {
     "data": {
      "text/plain": [
       "'highway'"
      ]
     },
     "execution_count": 21,
     "metadata": {},
     "output_type": "execute_result"
    }
   ],
   "source": [
    "imagePath.split(os.path.sep)[1] # inget urutan list!"
   ]
  },
  {
   "cell_type": "code",
   "execution_count": 22,
   "metadata": {},
   "outputs": [
    {
     "data": {
      "text/plain": [
       "[124.45698547363281,\n",
       " 131.66502380371094,\n",
       " 123.9903564453125,\n",
       " 58.57988465402306,\n",
       " 70.1360436940548,\n",
       " 83.73321692128057]"
      ]
     },
     "execution_count": 22,
     "metadata": {},
     "output_type": "execute_result"
    }
   ],
   "source": [
    "image = Image.open(imagePath)\n",
    "extract_color_stats(image)"
   ]
  },
  {
   "cell_type": "code",
   "execution_count": null,
   "metadata": {},
   "outputs": [],
   "source": []
  }
 ],
 "metadata": {
  "kernelspec": {
   "display_name": "Python 3",
   "language": "python",
   "name": "python3"
  },
  "language_info": {
   "codemirror_mode": {
    "name": "ipython",
    "version": 3
   },
   "file_extension": ".py",
   "mimetype": "text/x-python",
   "name": "python",
   "nbconvert_exporter": "python",
   "pygments_lexer": "ipython3",
   "version": "3.7.3"
  }
 },
 "nbformat": 4,
 "nbformat_minor": 2
}
